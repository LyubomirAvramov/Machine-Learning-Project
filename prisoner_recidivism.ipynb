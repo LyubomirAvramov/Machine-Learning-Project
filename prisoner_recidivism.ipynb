{
  "cells": [
    {
      "cell_type": "code",
      "execution_count": 1,
      "metadata": {
        "id": "DwFLL8WOmf6X"
      },
      "outputs": [],
      "source": [
        "# Used to load the dataset and for data pre-processing\n",
        "import pandas as pd\n",
        "\n",
        "# Used to do calculations with the data\n",
        "import numpy as np\n",
        "\n",
        "# Used for ploting during data exploration and result analysis. \n",
        "import matplotlib.pyplot as plt\n"
      ]
    },
    {
      "cell_type": "code",
      "execution_count": 2,
      "metadata": {
        "colab": {
          "base_uri": "https://localhost:8080/"
        },
        "id": "HBMeQpUZmTGZ",
        "outputId": "9271ac60-65ca-4cd3-b84c-50fa87488edc"
      },
      "outputs": [
        {
          "name": "stdout",
          "output_type": "stream",
          "text": [
            "Mounted at /content/drive\n"
          ]
        }
      ],
      "source": [
        "# Data was taken from kaggle \n",
        "# If you want to use google colab use the following three lines of code. \n",
        "# from google.colab import drive\n",
        "# drive.mount('/content/drive')\n",
        "# data = pd.read_csv('./drive/MyDrive/recidivism.csv')\n",
        "\n",
        "data = pd.read_csv('./recidivism.csv')\n"
      ]
    },
    {
      "cell_type": "code",
      "execution_count": 3,
      "metadata": {
        "colab": {
          "base_uri": "https://localhost:8080/"
        },
        "id": "ZzlBK0JZm-mh",
        "outputId": "4bb8c6b1-6613-40f2-9d96-84f3a7fcab94"
      },
      "outputs": [
        {
          "name": "stdout",
          "output_type": "stream",
          "text": [
            "   Fiscal Year Released  Recidivism Reporting Year      Race - Ethnicity  \\\n",
            "0                  2010                       2013  White - Non-Hispanic   \n",
            "1                  2010                       2013  White - Non-Hispanic   \n",
            "2                  2010                       2013  White - Non-Hispanic   \n",
            "3                  2010                       2013  White - Non-Hispanic   \n",
            "4                  2010                       2013  Black - Non-Hispanic   \n",
            "\n",
            "  Age At Release  Convicting Offense Classification Convicting Offense Type  \\\n",
            "0        Under 25                          D Felony                 Violent   \n",
            "1    55 and Older                          D Felony            Public Order   \n",
            "2           25-34                          D Felony                Property   \n",
            "3    55 and Older                          C Felony                    Drug   \n",
            "4           25-34                          D Felony                    Drug   \n",
            "\n",
            "  Convicting Offense Subtype Main Supervising District Release Type  \\\n",
            "0                    Assault                       4JD       Parole   \n",
            "1                        OWI                       7JD       Parole   \n",
            "2                   Burglary                       5JD       Parole   \n",
            "3                Trafficking                       8JD       Parole   \n",
            "4                Trafficking                       3JD       Parole   \n",
            "\n",
            "  Release type: Paroled to Detainder united Part of Target Population  \\\n",
            "0                                    Parole                       Yes   \n",
            "1                                    Parole                       Yes   \n",
            "2                                    Parole                       Yes   \n",
            "3                                    Parole                       Yes   \n",
            "4                                    Parole                       Yes   \n",
            "\n",
            "   Recidivism - Return to Prison numeric  \n",
            "0                                      1  \n",
            "1                                      1  \n",
            "2                                      1  \n",
            "3                                      1  \n",
            "4                                      1  \n",
            "(26020, 12)\n"
          ]
        }
      ],
      "source": [
        "# Exploring the data by looking at the first 5 rows and shape. \n",
        "print(data.head())\n",
        "print(data.shape)\n"
      ]
    },
    {
      "cell_type": "code",
      "execution_count": 4,
      "metadata": {
        "colab": {
          "base_uri": "https://localhost:8080/",
          "height": 677
        },
        "id": "a-7dHbX9nBpu",
        "outputId": "79ec265f-2ce4-4c30-966e-17d431198fbc"
      },
      "outputs": [
        {
          "data": {
            "image/png": "[encoded data removed]",
            "text/plain": [
              "<Figure size 720x504 with 2 Axes>"
            ]
          },
          "metadata": {
            "needs_background": "light"
          },
          "output_type": "display_data"
        }
      ],
      "source": [
        "# Exploring the data to check the most common classes.\n",
        "\n",
        "plt.figure(figsize=(10, 7))\n",
        "\n",
        "plt.subplot(1, 2, 1) # row 1, col 2 index 1\n",
        "data['Race - Ethnicity'].value_counts().plot(kind='bar')\n",
        "plt.title(\"Race - Ethnicity\")\n",
        "plt.ylabel('Count')\n",
        "\n",
        "plt.subplot(1, 2, 2) # index 2\n",
        "data['Convicting Offense Classification'].value_counts().plot(kind='bar')\n",
        "plt.title(\"Convicting Offense Classification\")\n",
        "\n",
        "plt.show()\n"
      ]
    },
    {
      "cell_type": "code",
      "execution_count": null,
      "metadata": {
        "colab": {
          "base_uri": "https://localhost:8080/",
          "height": 500
        },
        "id": "h2bGyAYLqKZ0",
        "outputId": "d8b9ebf8-5795-42ae-a018-d3b7e6507eec"
      },
      "outputs": [
        {
          "data": {
            "image/png": "[encoded data removed]",
            "text/plain": [
              "<Figure size 720x504 with 2 Axes>"
            ]
          },
          "metadata": {
            "needs_background": "light"
          },
          "output_type": "display_data"
        }
      ],
      "source": [
        "# Exploring the data to check the most common classes.\n",
        "\n",
        "plt.figure(figsize=(10, 7))\n",
        "\n",
        "plt.subplot(1, 2, 1) # row 1, col 2 index 1\n",
        "data['Recidivism - Return to Prison numeric'].value_counts().plot(kind='bar')\n",
        "plt.title(\"Recidivism - Return to Prison numeric\")\n",
        "plt.ylabel('Count')\n",
        "\n",
        "plt.subplot(1, 2, 2) # index 2\n",
        "data['Age At Release '].value_counts().plot(kind='bar')\n",
        "plt.title(\"Age At Release \")\n",
        "\n",
        "plt.show()\n"
      ]
    },
    {
      "cell_type": "code",
      "execution_count": null,
      "metadata": {
        "colab": {
          "base_uri": "https://localhost:8080/",
          "height": 500
        },
        "id": "Xscdz-9zqZmp",
        "outputId": "bcaf0c67-dd65-4a9b-af1b-bee2c2a42d87"
      },
      "outputs": [
        {
          "data": {
            "image/png": "[encoded data removed]",
            "text/plain": [
              "<Figure size 720x504 with 2 Axes>"
            ]
          },
          "metadata": {
            "needs_background": "light"
          },
          "output_type": "display_data"
        }
      ],
      "source": [
        "# Exploring the data to check the most common classes.\n",
        "\n",
        "plt.figure(figsize=(10, 7))\n",
        "\n",
        "plt.subplot(1, 2, 1) # row 1, col 2 index 1\n",
        "data.loc[data['Recidivism - Return to Prison numeric'] == 1]['Age At Release '].value_counts().plot(kind='bar')\n",
        "plt.title(\"Age at release of people who returned to prison\")\n",
        "plt.ylabel('Count')\n",
        "\n",
        "plt.subplot(1, 2, 2) # index 2\n",
        "data.loc[data['Recidivism - Return to Prison numeric'] == 0]['Age At Release '].value_counts().plot(kind='bar')\n",
        "plt.title(\"Age at release of people who didn't return\")\n",
        "\n",
        "plt.show()\n"
      ]
    },
    {
      "cell_type": "code",
      "execution_count": 5,
      "metadata": {
        "colab": {
          "base_uri": "https://localhost:8080/"
        },
        "id": "0PjqFTQJDkQo",
        "outputId": "eeeb73f7-540e-4fa7-db9b-d3087881c182"
      },
      "outputs": [
        {
          "name": "stdout",
          "output_type": "stream",
          "text": [
            "List of columns:  Index(['Fiscal Year Released', 'Recidivism Reporting Year', 'Race - Ethnicity',\n",
            "       'Age At Release ', 'Convicting Offense Classification',\n",
            "       'Convicting Offense Type', 'Convicting Offense Subtype',\n",
            "       'Main Supervising District', 'Release Type',\n",
            "       'Release type: Paroled to Detainder united',\n",
            "       'Part of Target Population', 'Recidivism - Return to Prison numeric'],\n",
            "      dtype='object')\n"
          ]
        }
      ],
      "source": [
        "# Getting a list of all columns\n",
        "print(\"List of columns: \", data.columns)\n"
      ]
    },
    {
      "cell_type": "code",
      "execution_count": 41,
      "metadata": {
        "colab": {
          "base_uri": "https://localhost:8080/"
        },
        "id": "WKUkeoT-EKv7",
        "outputId": "b1dea559-4ff4-4c3a-b397-b02c3eb0e59a"
      },
      "outputs": [
        {
          "name": "stdout",
          "output_type": "stream",
          "text": [
            "Index(['Recidivism - Return to Prison numeric',\n",
            "       'American Indian or Alaska Native - Hispanic',\n",
            "       'American Indian or Alaska Native - Non-Hispanic',\n",
            "       'Asian or Pacific Islander - Hispanic',\n",
            "       'Asian or Pacific Islander - Non-Hispanic', 'Black -',\n",
            "       'Black - Hispanic', 'Black - Non-Hispanic', 'White -',\n",
            "       'White - Hispanic', 'White - Non-Hispanic', '25-34', '35-44', '45-54',\n",
            "       '55 and Older', 'Under 25', 'A Felony', 'Aggravated Misdemeanor',\n",
            "       'B Felony', 'C Felony', 'D Felony', 'Felony - Enhanced',\n",
            "       'Felony - Enhancement to Original Penalty',\n",
            "       'Felony - Mandatory Minimum', 'Other Felony', 'Other Felony (Old Code)',\n",
            "       'Other Misdemeanor', 'Serious Misdemeanor',\n",
            "       'Sexual Predator Community Supervision', 'Simple Misdemeanor',\n",
            "       'Special Sentence 2005', 'Discharged End of Sentence',\n",
            "       'Interstate Compact Parole', 'Parole', 'Paroled to Detainer - INS',\n",
            "       'Paroled to Detainer - Iowa', 'Paroled to Detainer - Out of State',\n",
            "       'Paroled to Detainer - U.S. Marshall', 'Special Sentence'],\n",
            "      dtype='object')\n"
          ]
        }
      ],
      "source": [
        "# Categorical data like Race, Age, Convicting offense, and release type are turned into columns. \n",
        "# For example a new column is created with a name of 25-34 and for every row where that is true, \n",
        "# the value of this column is 1. \n",
        "\n",
        "data_race = pd.get_dummies(data['Race - Ethnicity'])\n",
        "placeholder_data = pd.concat([data, data_race], axis=1)\n",
        "\n",
        "data_age = pd.get_dummies(placeholder_data['Age At Release '])\n",
        "placeholder_data = pd.concat([placeholder_data, data_age], axis=1)\n",
        "\n",
        "data_offese_clasification = pd.get_dummies(placeholder_data['Convicting Offense Classification'])\n",
        "placeholder_data = pd.concat([placeholder_data, data_offese_clasification], axis=1)\n",
        "\n",
        "data_release_type = pd.get_dummies(placeholder_data['Release Type'])\n",
        "placeholder_data = pd.concat([placeholder_data, data_release_type], axis=1)\n",
        "\n",
        "final_data = placeholder_data.drop([\"Fiscal Year Released\", \"Recidivism Reporting Year\", \n",
        "                                    \"Race - Ethnicity\", \"Age At Release \", \"Convicting Offense Classification\", \"Convicting Offense Type\", \n",
        "                                    \"Convicting Offense Subtype\", \"Release Type\", \"Release type: Paroled to Detainder united\", \"Main Supervising District\", \n",
        "                                    \"N/A -\", \"Part of Target Population\"], axis = 1)\n",
        "print(final_data.columns)\n"
      ]
    },
    {
      "cell_type": "code",
      "execution_count": 7,
      "metadata": {
        "id": "dCZgxJ7aFI65"
      },
      "outputs": [],
      "source": [
        "# Splitting the data into input, and predicted variable. \n",
        "\n",
        "X = final_data.drop([\"Recidivism - Return to Prison numeric\"], axis = 1)\n",
        "y = final_data[\"Recidivism - Return to Prison numeric\"]\n"
      ]
    },
    {
      "cell_type": "markdown",
      "metadata": {
        "id": "xR7juofokTOl"
      },
      "source": [
        "## Splitting the data in training and testing"
      ]
    },
    {
      "cell_type": "code",
      "execution_count": 8,
      "metadata": {
        "id": "PRRaB-_lkKZu"
      },
      "outputs": [],
      "source": [
        "import random\n",
        "\n",
        "# Spliting the data into 80% training, and 20% testing. \n",
        "# We choose random rows for testing and training. \n",
        "\n",
        "# Get the len of column\n",
        "number_of_rows = len(y)\n",
        "\n",
        "# Go through all rows\n",
        "all_rows = range(0,number_of_rows)\n",
        "\n",
        "# Set the percentage for train dat\n",
        "percentage_train = 0.8\n",
        "\n",
        "# select the training row and testing rows. \n",
        "train_len = round(number_of_rows * percentage_train)\n",
        "training_rows = random.sample(all_rows, train_len)\n",
        "\n",
        "testing_rows = []\n",
        "\n",
        "for i in range(number_of_rows):\n",
        "  if i not in training_rows:\n",
        "    testing_rows.append(i)\n"
      ]
    },
    {
      "cell_type": "code",
      "execution_count": 9,
      "metadata": {
        "id": "QbkyuYvHkKPQ"
      },
      "outputs": [],
      "source": [
        "# Spliting the data into train and test data. \n",
        "X_train = X.iloc[training_rows]\n",
        "y_train = y.iloc[training_rows]\n",
        "X_test = X.iloc[testing_rows]\n",
        "y_test = y.iloc[testing_rows]\n",
        "\n",
        "# Turning pandas df to numpy array. Numpy is really good at doing calculations quickly. \n",
        "X_train = X_train.to_numpy()\n",
        "y_train = y_train.to_numpy()\n",
        "\n",
        "X_test = X_test.to_numpy()\n",
        "y_test = y_test.to_numpy()\n"
      ]
    },
    {
      "cell_type": "code",
      "execution_count": 10,
      "metadata": {
        "id": "G7Wmo6dikKND"
      },
      "outputs": [],
      "source": [
        "# Picking a smaller subset of the data so the training goes quicker. \n",
        "\n",
        "X_train2 = X_train[0:10000]\n",
        "y_train2 = y_train[0:10000]\n",
        "\n",
        "X_test2 = X_test[0:2000]\n",
        "y_test2 = y_test[0:2000]\n"
      ]
    },
    {
      "cell_type": "markdown",
      "metadata": {
        "id": "AZ0MurKTtwVl"
      },
      "source": [
        "## Implementing KNN\n",
        "\n",
        "KNN is a classification and regression algorithm. KNN works by finding the distances between a query and all the examples in the data, selecting the specified number examples (K) closest to the query, then votes for the most frequent label which in our case is 1 or 0. "
      ]
    },
    {
      "cell_type": "code",
      "execution_count": 11,
      "metadata": {
        "id": "t9XABes_K47r"
      },
      "outputs": [],
      "source": [
        "# Find the most common response \n",
        "def most_common(vote_list):\n",
        "    return max(set(vote_list), key=vote_list.count)\n",
        "\n",
        "# Calculating the euclidian distance between the point and the data. \n",
        "def euclidean(point, data):\n",
        "    return np.sqrt(np.sum((point - data)**2, axis=1))\n",
        "\n",
        "\n",
        "class KNeighborsClassifier:\n",
        "\n",
        "  # Initializing with k, and with the distance function\n",
        "  def __init__(self, k=5, dist_metric=euclidean):\n",
        "    self.k = k\n",
        "    self.dist_metric = dist_metric\n",
        "  \n",
        "\n",
        "  # Fit the model using the training data\n",
        "  def fit(self, X_train, y_train):\n",
        "    self.X_train = X_train\n",
        "    self.y_train = y_train\n",
        "\n",
        "  def predict(self, X_test):\n",
        "    neighbors = []\n",
        "    for x in X_test:\n",
        "        distances = self.dist_metric(x, self.X_train)\n",
        "        y_sorted = [y for _, y in sorted(zip(distances, self.y_train))]\n",
        "        neighbors.append(y_sorted[:self.k])\n",
        "\n",
        "    return list(map(most_common, neighbors))\n",
        "\n",
        "\n",
        "  def evaluate(self, X_test, y_test):\n",
        "\n",
        "    # Predict using X_test then compare the predicted value with the real value\n",
        "    y_pred = self.predict(X_test)\n",
        "\n",
        "    # Accuracy will be equal to the number of correct guesses divided by total guesses. \n",
        "    accuracy = sum(y_pred == y_test) / len(y_test)\n",
        "    return accuracy\n",
        "\n"
      ]
    },
    {
      "cell_type": "code",
      "execution_count": 12,
      "metadata": {
        "colab": {
          "base_uri": "https://localhost:8080/",
          "height": 295
        },
        "id": "sXn0Y0U01kuJ",
        "outputId": "4b762d26-b8f1-475f-b507-63f5c8bfe039"
      },
      "outputs": [
        {
          "data": {
            "image/png": "[encoded data removed]",
            "text/plain": [
              "<Figure size 432x288 with 1 Axes>"
            ]
          },
          "metadata": {
            "needs_background": "light"
          },
          "output_type": "display_data"
        }
      ],
      "source": [
        "\n",
        "list_of_accuracies = []\n",
        "ks = range(1, 30)\n",
        "\n",
        "for k in ks:\n",
        "  # Create a classifier for each k  \n",
        "  knn = KNeighborsClassifier(k=k)\n",
        "\n",
        "  # Fit the model using the training data. \n",
        "  knn.fit(X_train2, y_train2)\n",
        "\n",
        "  #Test the moddel using the testing data, and get the accuracy \n",
        "  accuracy = knn.evaluate(X_test2, y_test2)\n",
        "\n",
        "  # Append the accuracy to the list so we can later plot it. \n",
        "  list_of_accuracies.append(accuracy)\n",
        "\n",
        "# Visualize accuracy vs. k\n",
        "fig, ax = plt.subplots()\n",
        "ax.plot(ks, list_of_accuracies)\n",
        "ax.set(xlabel=\"k\",\n",
        "       ylabel=\"Accuracy\",\n",
        "       title=\"Algorithm performance with first dataset\")\n",
        "plt.show()\n"
      ]
    },
    {
      "cell_type": "markdown",
      "metadata": {
        "id": "iwlY0Hkp2wrQ"
      },
      "source": [
        "# Confusion matrix"
      ]
    },
    {
      "cell_type": "code",
      "execution_count": 13,
      "metadata": {
        "id": "od7qicT627tM"
      },
      "outputs": [],
      "source": [
        "\n",
        "# Get the predictions from the model using test2 data\n",
        "y_pred2 = knn.predict(X_test2)\n"
      ]
    },
    {
      "cell_type": "code",
      "execution_count": 14,
      "metadata": {
        "id": "c4S3EtnN3yqa"
      },
      "outputs": [],
      "source": [
        "\n",
        "# Create the confusion matrix. \n",
        "\n",
        "y_actu = pd.Series(y_test2, name='Actual')\n",
        "y_pred = pd.Series(y_pred2, name='Predicted')\n",
        "df_confusion = pd.crosstab(y_actu, y_pred)\n"
      ]
    },
    {
      "cell_type": "code",
      "execution_count": 15,
      "metadata": {
        "colab": {
          "base_uri": "https://localhost:8080/",
          "height": 258
        },
        "id": "EevN-nBo4HaZ",
        "outputId": "cf6a812a-3f2c-49b6-fe27-664db161c172"
      },
      "outputs": [
        {
          "data": {
            "image/png": "[encoded data removed]",
            "text/plain": [
              "<Figure size 288x288 with 2 Axes>"
            ]
          },
          "metadata": {
            "needs_background": "light"
          },
          "output_type": "display_data"
        }
      ],
      "source": [
        "\n",
        "def plot_confusion_matrix(df_confusion, title='Confusion matrix', cmap=plt.cm.gray_r):\n",
        "    # imshow\n",
        "    plt.matshow(df_confusion, cmap=cmap)\\\n",
        "\n",
        "    #plt.title(title)\n",
        "    plt.colorbar()\n",
        "\n",
        "    # Set tick marks\n",
        "    tick_marks = np.arange(len(df_confusion.columns))\n",
        "\n",
        "    # Set x and y ticks\n",
        "    plt.xticks(tick_marks, df_confusion.columns, rotation=45)\n",
        "    plt.yticks(tick_marks, df_confusion.index)\n",
        "\n",
        "\n",
        "    #plt.tight_layout()\n",
        "    plt.ylabel(df_confusion.index.name)\n",
        "    plt.xlabel(df_confusion.columns.name)\n",
        "\n",
        "\n",
        "# Plotting the confusion matrix. \n",
        "df_confusion = pd.crosstab(y_actu, y_pred)\n",
        "plot_confusion_matrix(df_confusion)\n"
      ]
    },
    {
      "cell_type": "markdown",
      "metadata": {
        "id": "PiNSxz3-t83n"
      },
      "source": [
        "We get a accuracy of 63%. This is about 4% less than the state of the art algorithm when it comes to predicting recivisim. Scientific paper predicting recivisism: https://www.science.org/doi/10.1126/sciadv.aao5580"
      ]
    },
    {
      "cell_type": "markdown",
      "metadata": {
        "id": "vRRCa2AXuCuF"
      },
      "source": [
        "# Testing algorithm with a second recidivism dataset\n",
        "This dataset is a little bit different, it includes the number of priors, as well as the sex of the offender. This data was not in the first dataset so let's see if we can get a higher accuracy using this dataset. \n"
      ]
    },
    {
      "cell_type": "code",
      "execution_count": 68,
      "metadata": {
        "id": "MgMMNFYjv3Js"
      },
      "outputs": [],
      "source": [
        "\n",
        "#Uploading the new dataset from a github url. This is used for a lot of recidivism models. \n",
        "\n",
        "url=\"https://raw.githubusercontent.com/adebayoj/fairml/master/doc/example_notebooks/propublica_data_for_fairml.csv\"\n",
        "data2=pd.read_csv(url)\n"
      ]
    },
    {
      "cell_type": "markdown",
      "metadata": {
        "id": "QHrbVEy6_Gl1"
      },
      "source": [
        "# Getting the data shape"
      ]
    },
    {
      "cell_type": "code",
      "execution_count": 69,
      "metadata": {
        "colab": {
          "base_uri": "https://localhost:8080/"
        },
        "id": "q9UTkuN2wEmS",
        "outputId": "f2ff3add-04ac-4a07-d0f5-0feb08b9510b"
      },
      "outputs": [
        {
          "name": "stdout",
          "output_type": "stream",
          "text": [
            "   Two_yr_Recidivism  Number_of_Priors  score_factor  Age_Above_FourtyFive  \\\n",
            "0                  0                 0             0                     1   \n",
            "1                  1                 0             0                     0   \n",
            "2                  1                 4             0                     0   \n",
            "3                  0                 0             0                     0   \n",
            "4                  1                14             1                     0   \n",
            "\n",
            "   Age_Below_TwentyFive  African_American  Asian  Hispanic  Native_American  \\\n",
            "0                     0                 0      0         0                0   \n",
            "1                     0                 1      0         0                0   \n",
            "2                     1                 1      0         0                0   \n",
            "3                     0                 0      0         0                0   \n",
            "4                     0                 0      0         0                0   \n",
            "\n",
            "   Other  Female  Misdemeanor  \n",
            "0      1       0            0  \n",
            "1      0       0            0  \n",
            "2      0       0            0  \n",
            "3      1       0            1  \n",
            "4      0       0            0  \n",
            "(6172, 12)\n"
          ]
        }
      ],
      "source": [
        "\n",
        "# Printing the shape and the first 5 rows of the data. \n",
        "\n",
        "print(data2.head())\n",
        "print(data2.shape)\n"
      ]
    },
    {
      "cell_type": "markdown",
      "metadata": {
        "id": "ik_twALt_MHI"
      },
      "source": [
        "# Checking if the data is balanced\n",
        "\n",
        "It is important for us to explore the data more. \n",
        "Here we will see how many people were arrested and charged with misdemeanor, \n",
        "how many are female and male, age, and more. "
      ]
    },
    {
      "cell_type": "code",
      "execution_count": 46,
      "metadata": {
        "colab": {
          "base_uri": "https://localhost:8080/",
          "height": 441
        },
        "id": "6qpYpPCX4wee",
        "outputId": "96adbf47-a271-4dda-af26-4523bf15450a"
      },
      "outputs": [
        {
          "data": {
            "image/png": "[encoded data removed]",
            "text/plain": [
              "<Figure size 720x504 with 1 Axes>"
            ]
          },
          "metadata": {
            "needs_background": "light"
          },
          "output_type": "display_data"
        }
      ],
      "source": [
        "\n",
        "plt.figure(figsize=(10, 7))\n",
        "\n",
        "plt.subplot(1, 2, 1) # row 1, col 2 index 1\n",
        "data2['Two_yr_Recidivism'].value_counts().plot(kind='bar')\n",
        "plt.title(\"Two_yr_Recidivism\")\n",
        "\n",
        "plt.show()\n"
      ]
    },
    {
      "cell_type": "code",
      "execution_count": 49,
      "metadata": {
        "colab": {
          "base_uri": "https://localhost:8080/",
          "height": 441
        },
        "id": "c2wWkvCtB9GP",
        "outputId": "9c45a1b8-21f3-4d82-a2b0-00b06c5529c2"
      },
      "outputs": [
        {
          "data": {
            "image/png": "[encoded data removed]",
            "text/plain": [
              "<Figure size 720x504 with 1 Axes>"
            ]
          },
          "metadata": {
            "needs_background": "light"
          },
          "output_type": "display_data"
        }
      ],
      "source": [
        "\n",
        "plt.figure(figsize=(10, 7))\n",
        "\n",
        "plt.subplot(1, 2, 1) # row 1, col 2 index 1\n",
        "data2['Misdemeanor'].value_counts().plot(kind='bar')\n",
        "plt.title(\"Misdemeanor\")\n",
        "\n",
        "plt.show()\n"
      ]
    },
    {
      "cell_type": "code",
      "execution_count": 50,
      "metadata": {
        "colab": {
          "base_uri": "https://localhost:8080/",
          "height": 447
        },
        "id": "ZJz2QEvUCW13",
        "outputId": "680cfd59-8e38-4a50-d80b-80c4a450baf0"
      },
      "outputs": [
        {
          "data": {
            "image/png": "[encoded data removed]",
            "text/plain": [
              "<Figure size 720x504 with 1 Axes>"
            ]
          },
          "metadata": {
            "needs_background": "light"
          },
          "output_type": "display_data"
        }
      ],
      "source": [
        "\n",
        "# Most people don't have any prioris and then we have some who\n",
        "# have more than thirty priors. \n",
        "\n",
        "plt.figure(figsize=(10, 7))\n",
        "\n",
        "plt.subplot(1, 2, 1) # row 1, col 2 index 1\n",
        "data2['Number_of_Priors'].value_counts().plot(kind='bar')\n",
        "plt.title(\"Number_of_Priors\")\n",
        "\n",
        "plt.show()\n"
      ]
    },
    {
      "cell_type": "code",
      "execution_count": 29,
      "metadata": {
        "colab": {
          "base_uri": "https://localhost:8080/",
          "height": 441
        },
        "id": "9-uSeSUi6Z6U",
        "outputId": "92af9dd8-ac91-4f41-a860-bfa6df52e7e2"
      },
      "outputs": [
        {
          "data": {
            "image/png": "[encoded data removed]",
            "text/plain": [
              "<Figure size 720x504 with 1 Axes>"
            ]
          },
          "metadata": {
            "needs_background": "light"
          },
          "output_type": "display_data"
        }
      ],
      "source": [
        "\n",
        "# The majority of inmates are males\n",
        "# This is common in most countries. \n",
        "\n",
        "\n",
        "plt.figure(figsize=(10, 7))\n",
        "\n",
        "plt.subplot(1, 2, 1) # row 1, col 2 index 1\n",
        "data2['Female'].value_counts().plot(kind='bar')\n",
        "plt.title(\"Female\")\n",
        "\n",
        "plt.show()\n"
      ]
    },
    {
      "cell_type": "code",
      "execution_count": 31,
      "metadata": {
        "colab": {
          "base_uri": "https://localhost:8080/",
          "height": 441
        },
        "id": "aPBkB3FR6-Cz",
        "outputId": "28d37bc1-0d38-4941-ddcc-87a99cf38d69"
      },
      "outputs": [
        {
          "data": {
            "image/png": "[encoded data removed]",
            "text/plain": [
              "<Figure size 720x504 with 2 Axes>"
            ]
          },
          "metadata": {
            "needs_background": "light"
          },
          "output_type": "display_data"
        }
      ],
      "source": [
        "\n",
        "plt.figure(figsize=(10, 7))\n",
        "\n",
        "plt.subplot(1, 2, 1) # row 1, col 2 index 1\n",
        "data2.loc[data2['African_American'] == 1]['African_American'].value_counts().plot(kind='bar')\n",
        "plt.title(\"African_American\")\n",
        "plt.ylabel('Count')\n",
        "\n",
        "plt.subplot(1, 2, 2) # index 2\n",
        "data2.loc[data2['Asian'] == 1]['Asian'].value_counts().plot(kind='bar')\n",
        "plt.title(\"Asian\")\n",
        "plt.ylabel('Count')\n",
        "\n",
        "plt.show()\n"
      ]
    },
    {
      "cell_type": "code",
      "execution_count": 51,
      "metadata": {
        "colab": {
          "base_uri": "https://localhost:8080/",
          "height": 441
        },
        "id": "quK4VB8QCvoM",
        "outputId": "3d56f456-1b51-4ff6-c166-82dec9567b29"
      },
      "outputs": [
        {
          "data": {
            "image/png": "[encoded data removed]",
            "text/plain": [
              "<Figure size 720x504 with 2 Axes>"
            ]
          },
          "metadata": {
            "needs_background": "light"
          },
          "output_type": "display_data"
        }
      ],
      "source": [
        "\n",
        "# The number of native american inmates is very low at under 15. \n",
        "\n",
        "plt.figure(figsize=(10, 7))\n",
        "\n",
        "plt.subplot(1, 2, 1) # row 1, col 2 index 1\n",
        "data2.loc[data2['Hispanic'] == 1]['Hispanic'].value_counts().plot(kind='bar')\n",
        "plt.title(\"Hispanic\")\n",
        "plt.ylabel('Count')\n",
        "\n",
        "plt.subplot(1, 2, 2) # index 2\n",
        "data2.loc[data2['Native_American'] == 1]['Native_American'].value_counts().plot(kind='bar')\n",
        "plt.title(\"Native_American\")\n",
        "plt.ylabel('Count')\n",
        "\n",
        "plt.show()\n"
      ]
    },
    {
      "cell_type": "code",
      "execution_count": 32,
      "metadata": {
        "colab": {
          "base_uri": "https://localhost:8080/",
          "height": 441
        },
        "id": "miETC5GC8GSj",
        "outputId": "6752b6f6-411f-4741-fc91-b5d2d08c9ad3"
      },
      "outputs": [
        {
          "data": {
            "image/png": "[encoded data removed]",
            "text/plain": [
              "<Figure size 720x504 with 1 Axes>"
            ]
          },
          "metadata": {
            "needs_background": "light"
          },
          "output_type": "display_data"
        }
      ],
      "source": [
        "\n",
        "# The majority of people are under 45. \n",
        "# This makes sense when it comes to using it as a predictor \n",
        "# for recidivism. \n",
        "\n",
        "plt.figure(figsize=(10, 7))\n",
        "\n",
        "plt.subplot(1, 2, 1) # row 1, col 2 index 1\n",
        "data2['Age_Above_FourtyFive'].value_counts().plot(kind='bar')\n",
        "plt.title(\"Age_Above_FourtyFive\")\n",
        "\n",
        "plt.show()\n"
      ]
    },
    {
      "cell_type": "code",
      "execution_count": 70,
      "metadata": {
        "id": "bVz0XBqkwmCx"
      },
      "outputs": [],
      "source": [
        "\n",
        "# Split the data into input data and output data. \n",
        "# We use the data in the X df to predict y. \n",
        "\n",
        "X = data2.drop([\"Two_yr_Recidivism\"], axis = 1)\n",
        "y = data2[\"Two_yr_Recidivism\"]\n"
      ]
    },
    {
      "cell_type": "code",
      "execution_count": 71,
      "metadata": {
        "id": "C3QmBfg2wseF"
      },
      "outputs": [],
      "source": [
        "\n",
        "import random\n",
        "\n",
        "# Spliting the data into 80% training, and 20% testing. \n",
        "# We choose random rows for testing and training. \n",
        "\n",
        "# Get the len of column\n",
        "number_of_rows = len(y)\n",
        "\n",
        "# Go through all rows\n",
        "all_rows = range(0,number_of_rows)\n",
        "\n",
        "# Set the percentage for train dat\n",
        "percentage_train = 0.8\n",
        "\n",
        "# select the training row and testing rows. \n",
        "train_len = round(number_of_rows * percentage_train)\n",
        "training_rows = random.sample(all_rows, train_len)\n",
        "\n",
        "testing_rows = []\n",
        "\n",
        "for i in range(number_of_rows):\n",
        "  if i not in training_rows:\n",
        "    testing_rows.append(i)\n"
      ]
    },
    {
      "cell_type": "code",
      "execution_count": 79,
      "metadata": {
        "id": "-qfCbFxjwzA5"
      },
      "outputs": [],
      "source": [
        "\n",
        "# Splitting the training and testing data. \n",
        "X_train = X.iloc[training_rows]\n",
        "y_train = y.iloc[training_rows]\n",
        "X_test = X.iloc[testing_rows]\n",
        "y_test = y.iloc[testing_rows]\n",
        "\n",
        "# Turning pandas df to numpy array. Numpy is really good at doing calculations quickly. \n",
        "X_train = X_train.to_numpy()\n",
        "y_train = y_train.to_numpy()\n",
        "X_test = X_test.to_numpy()\n",
        "y_test = y_test.to_numpy()\n"
      ]
    },
    {
      "cell_type": "code",
      "execution_count": 73,
      "metadata": {
        "colab": {
          "base_uri": "https://localhost:8080/",
          "height": 295
        },
        "id": "vioDNI1iw32r",
        "outputId": "e4ee4bf5-4c4f-4ec1-ecc8-ce07e540a1d2"
      },
      "outputs": [
        {
          "data": {
            "image/png": "[encoded data removed]",
            "text/plain": [
              "<Figure size 432x288 with 1 Axes>"
            ]
          },
          "metadata": {
            "needs_background": "light"
          },
          "output_type": "display_data"
        }
      ],
      "source": [
        "\n",
        "# Test knn model across varying ks\n",
        "list_of_accuracies = []\n",
        "ks = range(1, 35)\n",
        "for k in ks:\n",
        "  # Create a classifier for each k  \n",
        "  knn = KNeighborsClassifier(k=k)\n",
        "\n",
        "  # Fit the model using the training data. \n",
        "  knn.fit(X_train, y_train)\n",
        "\n",
        "  #Test the moddel using the testing data, and get the accuracy \n",
        "  accuracy = knn.evaluate(X_test, y_test)\n",
        "\n",
        "  # Append the accuracy to the list so we can later plot it. \n",
        "  list_of_accuracies.append(accuracy)\n",
        "# Visualize accuracy vs. k\n",
        "fig, ax = plt.subplots()\n",
        "ax.plot(ks, list_of_accuracies)\n",
        "ax.set(xlabel=\"k\",\n",
        "       ylabel=\"Accuracy\",\n",
        "       title=\"Algorithm performance with second dataset\")\n",
        "plt.show()\n"
      ]
    },
    {
      "cell_type": "markdown",
      "metadata": {
        "id": "mqZYwPRiHrAC"
      },
      "source": [
        "The algorithm with the newer data seems to perform better, close to 64%"
      ]
    },
    {
      "cell_type": "code",
      "execution_count": 78,
      "metadata": {
        "id": "6UvcdSb88YgT"
      },
      "outputs": [],
      "source": [
        "# Predicting using the X_test data\n",
        "y_pred = knn.predict(X_test)\n"
      ]
    },
    {
      "cell_type": "code",
      "execution_count": 81,
      "metadata": {
        "id": "R-WkI5Rx8avG"
      },
      "outputs": [],
      "source": [
        "# Building a confusion matrix. \n",
        "\n",
        "y_actu = pd.Series(y_test, name='Actual')\n",
        "y_pred = pd.Series(y_pred, name='Predicted')\n",
        "df_confusion = pd.crosstab(y_actu, y_pred)\n"
      ]
    },
    {
      "cell_type": "code",
      "execution_count": 82,
      "metadata": {
        "colab": {
          "base_uri": "https://localhost:8080/",
          "height": 254
        },
        "id": "8UakGQFa8b2y",
        "outputId": "fe3e28d7-40a7-4122-efd6-03b9bb86cded"
      },
      "outputs": [
        {
          "data": {
            "image/png": "[encoded data removed]",
            "text/plain": [
              "<Figure size 288x288 with 2 Axes>"
            ]
          },
          "metadata": {
            "needs_background": "light"
          },
          "output_type": "display_data"
        }
      ],
      "source": [
        "# Displaying the confusion matrix. \n",
        "\n",
        "df_confusion = pd.crosstab(y_actu, y_pred)\n",
        "plot_confusion_matrix(df_confusion)\n"
      ]
    },
    {
      "cell_type": "markdown",
      "metadata": {
        "id": "aH3NPGnszA3L"
      },
      "source": [
        "# Improvements\n",
        "\n",
        "1. All the data from the first dataset should be used. Since there are over 20,000 rows, it takes a long time to train, that's we trained with a smaller dataset. Training with the full dataset could produce better results. \n",
        "\n",
        "2. K can be increased to improve the accuracy of the algorithm\n",
        "\n",
        "3. The speed of the algorithm could be improved. The version of KNN that is used in the sklearn library, is much faster than the one that we have implemented.  \n",
        "\n",
        "4. Different algorithms such as CNN could perform better than KNN, so it would be worth exploring it. \n",
        "\n",
        "5. There were articles suggesting that maybe we should include race in the algorithm in order to not show any bias. \n",
        "\n",
        "6. The second dataset is used by an algorithm called compas. This is a popular commercial algorithm used by judges and parole officers for scoring criminal defendant’s likelihood of reoffending (recidivism) in the US. It has been shown that the algorithm is biased in favor of white defendants, and against black inmates, based on a 2 year follow up study (i.e who actually committed crimes or violent crimes after 2 years). The pattern of mistakes, as measured by precision/sensitivity is notable. This should be taken into account as part of our algorithm"
      ]
    },
    {
      "cell_type": "code",
      "execution_count": null,
      "metadata": {
        "colab": {
          "base_uri": "https://localhost:8080/"
        },
        "id": "C1eSAhG4y_jt",
        "outputId": "4219650a-0a7f-4b89-d3f9-7abd17b1918b"
      },
      "outputs": [
        {
          "name": "stdout",
          "output_type": "stream",
          "text": [
            "[NbConvertApp] Converting notebook /content/prisoner_recidivism.ipynb to html\n",
            "[NbConvertApp] Writing 460830 bytes to /content/prisoner_recidivism.html\n"
          ]
        },
        {
          "data": {
            "text/plain": []
          },
          "execution_count": 1,
          "metadata": {},
          "output_type": "execute_result"
        }
      ],
      "source": [
        "%%shell\n",
        "jupyter nbconvert --to html /content/prisoner_recidivism.ipynb\n"
      ]
    }
  ],
  "metadata": {
    "colab": {
      "provenance": []
    },
    "kernelspec": {
      "display_name": "Python 3.10.8 64-bit (microsoft store)",
      "language": "python",
      "name": "python3"
    },
    "language_info": {
      "name": "python",
      "version": "3.10.8"
    },
    "vscode": {
      "interpreter": {
        "hash": "994a0e9deb03cd3ea3453f3ba74ed415c78d695932a7240e5c51ba81e883d3dc"
      }
    }
  },
  "nbformat": 4,
  "nbformat_minor": 0
}
